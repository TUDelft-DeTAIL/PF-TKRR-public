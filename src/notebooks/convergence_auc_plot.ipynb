{
 "cells": [
  {
   "cell_type": "code",
   "execution_count": 1,
   "metadata": {
    "collapsed": true
   },
   "outputs": [],
   "source": [
    "import matplotlib\n",
    "import matplotlib.pyplot as plt\n",
    "import seaborn as sns\n",
    "import numpy as np\n",
    "import pandas as pd\n",
    "import os\n",
    "\n",
    "from src.config import FEATURES_DIR\n",
    "import importlib\n",
    "\n",
    "importlib.import_module(\"src/scripts/8_visualize_results.py\", package=None)\n",
    "from sklearn.metrics import roc_auc_score, average_precision_score"
   ]
  },
  {
   "cell_type": "markdown",
   "metadata": {},
   "source": [
    "Results PF model"
   ]
  },
  {
   "cell_type": "code",
   "execution_count": 2,
   "metadata": {
    "collapsed": false
   },
   "outputs": [
    {
     "data": {
      "text/html": [
       "<div>\n",
       "<style scoped>\n",
       "    .dataframe tbody tr th:only-of-type {\n",
       "        vertical-align: middle;\n",
       "    }\n",
       "\n",
       "    .dataframe tbody tr th {\n",
       "        vertical-align: top;\n",
       "    }\n",
       "\n",
       "    .dataframe thead th {\n",
       "        text-align: right;\n",
       "    }\n",
       "</style>\n",
       "<table border=\"1\" class=\"dataframe\">\n",
       "  <thead>\n",
       "    <tr style=\"text-align: right;\">\n",
       "      <th></th>\n",
       "      <th>Unnamed: 0</th>\n",
       "      <th>patient</th>\n",
       "      <th>auc</th>\n",
       "      <th>aucpr</th>\n",
       "      <th>max_iter</th>\n",
       "      <th>fold</th>\n",
       "    </tr>\n",
       "  </thead>\n",
       "  <tbody>\n",
       "    <tr>\n",
       "      <th>0</th>\n",
       "      <td>0</td>\n",
       "      <td>258</td>\n",
       "      <td>0.348653</td>\n",
       "      <td>0.548910</td>\n",
       "      <td>1</td>\n",
       "      <td>0</td>\n",
       "    </tr>\n",
       "    <tr>\n",
       "      <th>1</th>\n",
       "      <td>0</td>\n",
       "      <td>258</td>\n",
       "      <td>0.377876</td>\n",
       "      <td>0.559068</td>\n",
       "      <td>2</td>\n",
       "      <td>0</td>\n",
       "    </tr>\n",
       "    <tr>\n",
       "      <th>2</th>\n",
       "      <td>0</td>\n",
       "      <td>258</td>\n",
       "      <td>0.397143</td>\n",
       "      <td>0.569329</td>\n",
       "      <td>3</td>\n",
       "      <td>0</td>\n",
       "    </tr>\n",
       "    <tr>\n",
       "      <th>3</th>\n",
       "      <td>0</td>\n",
       "      <td>258</td>\n",
       "      <td>0.407596</td>\n",
       "      <td>0.573135</td>\n",
       "      <td>4</td>\n",
       "      <td>0</td>\n",
       "    </tr>\n",
       "    <tr>\n",
       "      <th>4</th>\n",
       "      <td>0</td>\n",
       "      <td>258</td>\n",
       "      <td>0.428461</td>\n",
       "      <td>0.594657</td>\n",
       "      <td>5</td>\n",
       "      <td>0</td>\n",
       "    </tr>\n",
       "  </tbody>\n",
       "</table>\n",
       "</div>"
      ],
      "text/plain": [
       "   Unnamed: 0  patient       auc     aucpr  max_iter  fold\n",
       "0           0      258  0.348653  0.548910         1     0\n",
       "1           0      258  0.377876  0.559068         2     0\n",
       "2           0      258  0.397143  0.569329         3     0\n",
       "3           0      258  0.407596  0.573135         4     0\n",
       "4           0      258  0.428461  0.594657         5     0"
      ]
     },
     "execution_count": 2,
     "metadata": {},
     "output_type": "execute_result"
    }
   ],
   "source": [
    "results_file = FEATURES_DIR + f\"PF/cpkrr/results.csv\"\n",
    "results = pd.read_csv(results_file)\n",
    "results.head()"
   ]
  },
  {
   "cell_type": "code",
   "execution_count": 3,
   "metadata": {},
   "outputs": [
    {
     "data": {
      "text/html": [
       "<div>\n",
       "<style scoped>\n",
       "    .dataframe tbody tr th:only-of-type {\n",
       "        vertical-align: middle;\n",
       "    }\n",
       "\n",
       "    .dataframe tbody tr th {\n",
       "        vertical-align: top;\n",
       "    }\n",
       "\n",
       "    .dataframe thead th {\n",
       "        text-align: right;\n",
       "    }\n",
       "</style>\n",
       "<table border=\"1\" class=\"dataframe\">\n",
       "  <thead>\n",
       "    <tr style=\"text-align: right;\">\n",
       "      <th></th>\n",
       "      <th>auc</th>\n",
       "      <th>aucpr</th>\n",
       "    </tr>\n",
       "    <tr>\n",
       "      <th>max_iter</th>\n",
       "      <th></th>\n",
       "      <th></th>\n",
       "    </tr>\n",
       "  </thead>\n",
       "  <tbody>\n",
       "    <tr>\n",
       "      <th>1</th>\n",
       "      <td>0.807299</td>\n",
       "      <td>0.755324</td>\n",
       "    </tr>\n",
       "    <tr>\n",
       "      <th>2</th>\n",
       "      <td>0.807104</td>\n",
       "      <td>0.755031</td>\n",
       "    </tr>\n",
       "    <tr>\n",
       "      <th>3</th>\n",
       "      <td>0.808816</td>\n",
       "      <td>0.757420</td>\n",
       "    </tr>\n",
       "    <tr>\n",
       "      <th>4</th>\n",
       "      <td>0.808475</td>\n",
       "      <td>0.757126</td>\n",
       "    </tr>\n",
       "    <tr>\n",
       "      <th>5</th>\n",
       "      <td>0.809032</td>\n",
       "      <td>0.756925</td>\n",
       "    </tr>\n",
       "  </tbody>\n",
       "</table>\n",
       "</div>"
      ],
      "text/plain": [
       "               auc     aucpr\n",
       "max_iter                    \n",
       "1         0.807299  0.755324\n",
       "2         0.807104  0.755031\n",
       "3         0.808816  0.757420\n",
       "4         0.808475  0.757126\n",
       "5         0.809032  0.756925"
      ]
     },
     "execution_count": 3,
     "metadata": {},
     "output_type": "execute_result"
    }
   ],
   "source": [
    "mean_results = results.loc[:,['auc', 'aucpr', 'max_iter', 'patient']].groupby(['patient', 'max_iter']).mean().groupby('max_iter').mean()\n",
    "mean_results.head()"
   ]
  },
  {
   "cell_type": "markdown",
   "metadata": {},
   "source": [
    "Get results of PI model"
   ]
  },
  {
   "cell_type": "code",
   "execution_count": 4,
   "metadata": {},
   "outputs": [
    {
     "data": {
      "text/html": [
       "<div>\n",
       "<style scoped>\n",
       "    .dataframe tbody tr th:only-of-type {\n",
       "        vertical-align: middle;\n",
       "    }\n",
       "\n",
       "    .dataframe tbody tr th {\n",
       "        vertical-align: top;\n",
       "    }\n",
       "\n",
       "    .dataframe thead th {\n",
       "        text-align: right;\n",
       "    }\n",
       "</style>\n",
       "<table border=\"1\" class=\"dataframe\">\n",
       "  <thead>\n",
       "    <tr style=\"text-align: right;\">\n",
       "      <th></th>\n",
       "      <th>prediction</th>\n",
       "      <th>annotation</th>\n",
       "      <th>group_id</th>\n",
       "      <th>index</th>\n",
       "      <th>Patient</th>\n",
       "    </tr>\n",
       "  </thead>\n",
       "  <tbody>\n",
       "    <tr>\n",
       "      <th>0</th>\n",
       "      <td>-0.680558</td>\n",
       "      <td>-1</td>\n",
       "      <td>336</td>\n",
       "      <td>0</td>\n",
       "      <td>1543</td>\n",
       "    </tr>\n",
       "    <tr>\n",
       "      <th>1</th>\n",
       "      <td>-0.441825</td>\n",
       "      <td>-1</td>\n",
       "      <td>335</td>\n",
       "      <td>1</td>\n",
       "      <td>1543</td>\n",
       "    </tr>\n",
       "    <tr>\n",
       "      <th>2</th>\n",
       "      <td>-0.348977</td>\n",
       "      <td>-1</td>\n",
       "      <td>336</td>\n",
       "      <td>2</td>\n",
       "      <td>1543</td>\n",
       "    </tr>\n",
       "    <tr>\n",
       "      <th>3</th>\n",
       "      <td>-0.365684</td>\n",
       "      <td>-1</td>\n",
       "      <td>333</td>\n",
       "      <td>3</td>\n",
       "      <td>1543</td>\n",
       "    </tr>\n",
       "    <tr>\n",
       "      <th>4</th>\n",
       "      <td>-0.684190</td>\n",
       "      <td>-1</td>\n",
       "      <td>334</td>\n",
       "      <td>4</td>\n",
       "      <td>1543</td>\n",
       "    </tr>\n",
       "  </tbody>\n",
       "</table>\n",
       "</div>"
      ],
      "text/plain": [
       "   prediction  annotation  group_id  index  Patient\n",
       "0   -0.680558          -1       336      0     1543\n",
       "1   -0.441825          -1       335      1     1543\n",
       "2   -0.348977          -1       336      2     1543\n",
       "3   -0.365684          -1       333      3     1543\n",
       "4   -0.684190          -1       334      4     1543"
      ]
     },
     "execution_count": 4,
     "metadata": {},
     "output_type": "execute_result"
    }
   ],
   "source": [
    "file = FEATURES_DIR + f\"PI/results_cpkrr.parquet\"\n",
    "group_df = pd.read_parquet(FEATURES_DIR + \"val_groups.parquet\")\n",
    "results_PI = get_predictions(file, group_df=group_df, group_name=\"group_id\")\n",
    "results_PI.head()"
   ]
  },
  {
   "cell_type": "code",
   "execution_count": 5,
   "metadata": {},
   "outputs": [
    {
     "name": "stdout",
     "output_type": "stream",
     "text": [
      "              auc     aucpr\n",
      "Patient                    \n",
      "258      0.691582  0.619154\n",
      "1543     0.713123  0.570155\n",
      "5479     0.967055  0.786998\n",
      "5943     0.603524  0.709320\n",
      "6514     0.804068  0.327469\n",
      "6811     0.514468  0.185239\n"
     ]
    }
   ],
   "source": [
    "# mean_results_PI = pd.DataFrame(columns=['Patient', 'auc', 'aucpr'])\n",
    "auc = results_PI.groupby('Patient').apply(lambda x: roc_auc_score(x['annotation'], x['prediction']))\n",
    "auc.name = 'auc'\n",
    "aucpr = results_PI.groupby('Patient').apply(lambda x: average_precision_score(x['annotation'], x['prediction']))\n",
    "aucpr.name = 'aucpr'\n",
    "patient_results_PI = pd.concat([auc, aucpr], axis=1)\n",
    "print(patient_results_PI)"
   ]
  },
  {
   "cell_type": "code",
   "execution_count": 6,
   "metadata": {},
   "outputs": [
    {
     "name": "stdout",
     "output_type": "stream",
     "text": [
      "auc      0.715637\n",
      "aucpr    0.533056\n",
      "dtype: float64\n"
     ]
    }
   ],
   "source": [
    "mean_results_PI = patient_results_PI.mean()\n",
    "print(mean_results_PI)"
   ]
  },
  {
   "cell_type": "code",
   "execution_count": 7,
   "metadata": {},
   "outputs": [],
   "source": [
    "mean_results.loc[0, :] = mean_results_PI\n",
    "mean_results.sort_index(inplace=True)\n",
    "mean_results.head()\n",
    "mean_results.columns = ['AUROC-PF', 'AUPRC-PF']"
   ]
  },
  {
   "cell_type": "markdown",
   "metadata": {},
   "source": [
    "Results Random PS model"
   ]
  },
  {
   "cell_type": "code",
   "execution_count": 8,
   "metadata": {},
   "outputs": [],
   "source": [
    "results_random = pd.read_csv(FEATURES_DIR + f\"PF/cpkrr/random_results.csv\")\n",
    "mean_results_random = results_random.loc[:,['auc', 'aucpr', 'max_iter', 'patient']].groupby(['patient', 'max_iter']).mean().groupby('max_iter').mean()\n",
    "mean_results_random.columns = ['AUROC-Random', 'AUPRC-Random']\n",
    "# mean_results_random = pd.melt(mean_results_random.reset_index(), id_vars=['max_iter'], value_vars=['PS-AUROC', 'PS-AUPRC'], var_name='metric', value_name='Value')"
   ]
  },
  {
   "cell_type": "markdown",
   "metadata": {},
   "source": [
    "Make Plot"
   ]
  },
  {
   "cell_type": "code",
   "execution_count": 9,
   "metadata": {},
   "outputs": [
    {
     "data": {
      "text/html": [
       "<div>\n",
       "<style scoped>\n",
       "    .dataframe tbody tr th:only-of-type {\n",
       "        vertical-align: middle;\n",
       "    }\n",
       "\n",
       "    .dataframe tbody tr th {\n",
       "        vertical-align: top;\n",
       "    }\n",
       "\n",
       "    .dataframe thead th {\n",
       "        text-align: right;\n",
       "    }\n",
       "</style>\n",
       "<table border=\"1\" class=\"dataframe\">\n",
       "  <thead>\n",
       "    <tr style=\"text-align: right;\">\n",
       "      <th></th>\n",
       "      <th>max_iter</th>\n",
       "      <th>metric</th>\n",
       "      <th>Value</th>\n",
       "    </tr>\n",
       "  </thead>\n",
       "  <tbody>\n",
       "    <tr>\n",
       "      <th>0</th>\n",
       "      <td>0</td>\n",
       "      <td>AUROC-PF</td>\n",
       "      <td>0.715637</td>\n",
       "    </tr>\n",
       "    <tr>\n",
       "      <th>1</th>\n",
       "      <td>1</td>\n",
       "      <td>AUROC-PF</td>\n",
       "      <td>0.807299</td>\n",
       "    </tr>\n",
       "    <tr>\n",
       "      <th>2</th>\n",
       "      <td>2</td>\n",
       "      <td>AUROC-PF</td>\n",
       "      <td>0.807104</td>\n",
       "    </tr>\n",
       "    <tr>\n",
       "      <th>3</th>\n",
       "      <td>3</td>\n",
       "      <td>AUROC-PF</td>\n",
       "      <td>0.808816</td>\n",
       "    </tr>\n",
       "    <tr>\n",
       "      <th>4</th>\n",
       "      <td>4</td>\n",
       "      <td>AUROC-PF</td>\n",
       "      <td>0.808475</td>\n",
       "    </tr>\n",
       "  </tbody>\n",
       "</table>\n",
       "</div>"
      ],
      "text/plain": [
       "   max_iter    metric     Value\n",
       "0         0  AUROC-PF  0.715637\n",
       "1         1  AUROC-PF  0.807299\n",
       "2         2  AUROC-PF  0.807104\n",
       "3         3  AUROC-PF  0.808816\n",
       "4         4  AUROC-PF  0.808475"
      ]
     },
     "execution_count": 9,
     "metadata": {},
     "output_type": "execute_result"
    }
   ],
   "source": [
    "mean_results = pd.concat([mean_results, mean_results_random], axis=1)\n",
    "mean_results['max_iter'] = mean_results.index\n",
    "# mean_results['max_iter'].convert_dtypes = int\n",
    "mean_results = pd.melt(mean_results, value_vars=['AUROC-PF', 'AUPRC-PF','AUROC-Random', 'AUPRC-Random'], id_vars='max_iter', var_name='metric', value_name='Value')\n",
    "mean_results.head()"
   ]
  },
  {
   "cell_type": "code",
   "execution_count": 13,
   "metadata": {},
   "outputs": [],
   "source": [
    "import matplotlib\n",
    "from matplotlib.ticker import MaxNLocator\n",
    "matplotlib.use(\"pgf\")\n",
    "# %matplotlib inline\n",
    "# matplotlib.rcParams.update({\n",
    "#     \"pgf.texsystem\": \"pdflatex\",\n",
    "#     'font.family': 'serif',\n",
    "#     'text.usetex': True,\n",
    "#     'pgf.rcfonts': False,\n",
    "# })\n",
    "\n",
    "# matplotlib.use(\"qt5agg\")\n",
    "sns.set_palette(\"colorblind\")\n",
    "plt.close('all')\n",
    "plt.figure(figsize=(6, 4))\n",
    "colors = ['#1f77b4', '#ff7f0e', '#2ca02c', '#d62728', '#9467bd', '#8c564b', '#e377c2', '#7f7f7f', '#bcbd22', '#17becf']\n",
    "ax = sns.lineplot(mean_results, x='max_iter', y='Value', hue='metric', markers=['s','s','o','o'], style='metric', dashes=False, palette=[colors[0], colors[1], colors[0], colors[1]], markevery=1, lw=1.2, markersize=8)\n",
    "# ax = sns.pointplot(mean_results_random, x='max_iter', y='Value', hue='metric', markers=['s','s','o', 'o'], scale=0.7)\n",
    "# ax.legend(['AUROC', 'AUPRC'], loc='lower right')\n",
    "# ax.plot([0], [mean_results_PI['auc']],  marker='*', markersize=7, color=colors[0], label='PI-AUROC', linestyle='None')\n",
    "# ax.plot([0], [mean_results_PI['aucpr']],  marker='*', markersize=7, color=colors[1], label='PI-AUPRC', linestyle='None')\n",
    "ax.legend(labels=None, loc='lower right', fontsize=14, fancybox=False, ncol=2, framealpha=1.)\n",
    "ax.grid(True)\n",
    "ax.set_xlabel('Iterations', fontsize=17)\n",
    "ax.set_ylabel(\"Metric\", fontsize=17)\n",
    "ax.set_xlim(0, 35)\n",
    "ax.set_ylim(0.3,0.85)\n",
    "ax.tick_params(axis='both', which='major', labelsize=14)\n",
    "ax.tick_params(axis='both', which='minor', labelsize=14)\n",
    "plt.tight_layout()\n",
    "# ax.xaxis.set_major_locator(MaxNLocator(integer=True))\n",
    "# plt.show()\n",
    "plt.savefig('convergence_auc.pgf')"
   ]
  },
  {
   "cell_type": "code",
   "execution_count": 11,
   "metadata": {},
   "outputs": [
    {
     "data": {
      "text/plain": [
       "'c:\\\\Users\\\\selinederooij\\\\surfdrive\\\\Code\\\\data_processing_library\\\\seizure_data_processing\\\\notebooks'"
      ]
     },
     "execution_count": 11,
     "metadata": {},
     "output_type": "execute_result"
    }
   ],
   "source": [
    "import os\n",
    "os.getcwd()"
   ]
  }
 ],
 "metadata": {
  "kernelspec": {
   "display_name": "Python 3",
   "language": "python",
   "name": "python3"
  },
  "language_info": {
   "codemirror_mode": {
    "name": "ipython",
    "version": 3
   },
   "file_extension": ".py",
   "mimetype": "text/x-python",
   "name": "python",
   "nbconvert_exporter": "python",
   "pygments_lexer": "ipython3",
   "version": "3.10.8"
  }
 },
 "nbformat": 4,
 "nbformat_minor": 0
}
