{
 "cells": [
  {
   "cell_type": "code",
   "execution_count": 1,
   "metadata": {
    "collapsed": true
   },
   "outputs": [],
   "source": [
    "from pathlib import Path\n",
    "import pandas as pd\n",
    "import seizure_data_processing as sdp\n",
    "from src.config import TUSZ_DIR\n",
    "from seizure_data_processing import EEG"
   ]
  },
  {
   "cell_type": "code",
   "execution_count": 2,
   "metadata": {
    "collapsed": false
   },
   "outputs": [],
   "source": [
    "# keywords\n",
    "\n",
    "LEFT_TEMPORAL = \"left temporal\"\n",
    "RIGHT_TEMPORAL = \"right temporal\""
   ]
  },
  {
   "cell_type": "code",
   "execution_count": 3,
   "metadata": {
    "collapsed": false
   },
   "outputs": [],
   "source": [
    "# only LE reference\n",
    "LE_TRAIN_FOLDER = TUSZ_DIR + \"edf/train/02_tcp_le/\"\n",
    "LE_DEV_FOLDER = TUSZ_DIR + \"edf/dev/02_tcp_le/\"\n",
    "\n",
    "FOLDERS = [LE_TRAIN_FOLDER, LE_DEV_FOLDER]"
   ]
  },
  {
   "cell_type": "code",
   "execution_count": 4,
   "metadata": {
    "collapsed": false
   },
   "outputs": [],
   "source": [
    "files = []\n",
    "for folder in FOLDERS:\n",
    "    files = files + list(Path(folder).rglob(\"*.[tT][xX][tT]\"))"
   ]
  },
  {
   "cell_type": "code",
   "execution_count": 5,
   "metadata": {
    "collapsed": false
   },
   "outputs": [],
   "source": [
    "# files[0].parts[6:.replace(\"\\\\\", \"/\")\n",
    "# int(files[10].parts[-1].split('_')[0])"
   ]
  },
  {
   "cell_type": "code",
   "execution_count": 6,
   "metadata": {
    "collapsed": false
   },
   "outputs": [],
   "source": [
    "# import os\n",
    "# temp = []\n",
    "# for root, dirs, files in os.walk(LE_TRAIN_FOLDER):\n",
    "#     for file in files:\n",
    "#         if file.endswith(\".txt\"):\n",
    "#             temp.append(file)"
   ]
  },
  {
   "cell_type": "code",
   "execution_count": 7,
   "metadata": {
    "collapsed": false
   },
   "outputs": [],
   "source": [
    "df_files = pd.DataFrame(columns=[\"file\", \"side\", \"patient\"])"
   ]
  },
  {
   "cell_type": "code",
   "execution_count": 8,
   "metadata": {
    "collapsed": false
   },
   "outputs": [
    {
     "name": "stderr",
     "output_type": "stream",
     "text": [
      "C:\\Users\\selinederooij\\AppData\\Local\\Temp\\ipykernel_14388\\110358461.py:20: FutureWarning: The frame.append method is deprecated and will be removed from pandas in a future version. Use pandas.concat instead.\n",
      "  df_files = df_files.append({'file': file, 'side': side, 'patient': patient}, ignore_index=True)\n",
      "C:\\Users\\selinederooij\\AppData\\Local\\Temp\\ipykernel_14388\\110358461.py:20: FutureWarning: The frame.append method is deprecated and will be removed from pandas in a future version. Use pandas.concat instead.\n",
      "  df_files = df_files.append({'file': file, 'side': side, 'patient': patient}, ignore_index=True)\n",
      "C:\\Users\\selinederooij\\AppData\\Local\\Temp\\ipykernel_14388\\110358461.py:20: FutureWarning: The frame.append method is deprecated and will be removed from pandas in a future version. Use pandas.concat instead.\n",
      "  df_files = df_files.append({'file': file, 'side': side, 'patient': patient}, ignore_index=True)\n",
      "C:\\Users\\selinederooij\\AppData\\Local\\Temp\\ipykernel_14388\\110358461.py:20: FutureWarning: The frame.append method is deprecated and will be removed from pandas in a future version. Use pandas.concat instead.\n",
      "  df_files = df_files.append({'file': file, 'side': side, 'patient': patient}, ignore_index=True)\n",
      "C:\\Users\\selinederooij\\AppData\\Local\\Temp\\ipykernel_14388\\110358461.py:20: FutureWarning: The frame.append method is deprecated and will be removed from pandas in a future version. Use pandas.concat instead.\n",
      "  df_files = df_files.append({'file': file, 'side': side, 'patient': patient}, ignore_index=True)\n",
      "C:\\Users\\selinederooij\\AppData\\Local\\Temp\\ipykernel_14388\\110358461.py:20: FutureWarning: The frame.append method is deprecated and will be removed from pandas in a future version. Use pandas.concat instead.\n",
      "  df_files = df_files.append({'file': file, 'side': side, 'patient': patient}, ignore_index=True)\n",
      "C:\\Users\\selinederooij\\AppData\\Local\\Temp\\ipykernel_14388\\110358461.py:20: FutureWarning: The frame.append method is deprecated and will be removed from pandas in a future version. Use pandas.concat instead.\n",
      "  df_files = df_files.append({'file': file, 'side': side, 'patient': patient}, ignore_index=True)\n",
      "C:\\Users\\selinederooij\\AppData\\Local\\Temp\\ipykernel_14388\\110358461.py:20: FutureWarning: The frame.append method is deprecated and will be removed from pandas in a future version. Use pandas.concat instead.\n",
      "  df_files = df_files.append({'file': file, 'side': side, 'patient': patient}, ignore_index=True)\n",
      "C:\\Users\\selinederooij\\AppData\\Local\\Temp\\ipykernel_14388\\110358461.py:20: FutureWarning: The frame.append method is deprecated and will be removed from pandas in a future version. Use pandas.concat instead.\n",
      "  df_files = df_files.append({'file': file, 'side': side, 'patient': patient}, ignore_index=True)\n",
      "C:\\Users\\selinederooij\\AppData\\Local\\Temp\\ipykernel_14388\\110358461.py:20: FutureWarning: The frame.append method is deprecated and will be removed from pandas in a future version. Use pandas.concat instead.\n",
      "  df_files = df_files.append({'file': file, 'side': side, 'patient': patient}, ignore_index=True)\n",
      "C:\\Users\\selinederooij\\AppData\\Local\\Temp\\ipykernel_14388\\110358461.py:20: FutureWarning: The frame.append method is deprecated and will be removed from pandas in a future version. Use pandas.concat instead.\n",
      "  df_files = df_files.append({'file': file, 'side': side, 'patient': patient}, ignore_index=True)\n",
      "C:\\Users\\selinederooij\\AppData\\Local\\Temp\\ipykernel_14388\\110358461.py:20: FutureWarning: The frame.append method is deprecated and will be removed from pandas in a future version. Use pandas.concat instead.\n",
      "  df_files = df_files.append({'file': file, 'side': side, 'patient': patient}, ignore_index=True)\n",
      "C:\\Users\\selinederooij\\AppData\\Local\\Temp\\ipykernel_14388\\110358461.py:20: FutureWarning: The frame.append method is deprecated and will be removed from pandas in a future version. Use pandas.concat instead.\n",
      "  df_files = df_files.append({'file': file, 'side': side, 'patient': patient}, ignore_index=True)\n",
      "C:\\Users\\selinederooij\\AppData\\Local\\Temp\\ipykernel_14388\\110358461.py:20: FutureWarning: The frame.append method is deprecated and will be removed from pandas in a future version. Use pandas.concat instead.\n",
      "  df_files = df_files.append({'file': file, 'side': side, 'patient': patient}, ignore_index=True)\n",
      "C:\\Users\\selinederooij\\AppData\\Local\\Temp\\ipykernel_14388\\110358461.py:20: FutureWarning: The frame.append method is deprecated and will be removed from pandas in a future version. Use pandas.concat instead.\n",
      "  df_files = df_files.append({'file': file, 'side': side, 'patient': patient}, ignore_index=True)\n",
      "C:\\Users\\selinederooij\\AppData\\Local\\Temp\\ipykernel_14388\\110358461.py:20: FutureWarning: The frame.append method is deprecated and will be removed from pandas in a future version. Use pandas.concat instead.\n",
      "  df_files = df_files.append({'file': file, 'side': side, 'patient': patient}, ignore_index=True)\n",
      "C:\\Users\\selinederooij\\AppData\\Local\\Temp\\ipykernel_14388\\110358461.py:20: FutureWarning: The frame.append method is deprecated and will be removed from pandas in a future version. Use pandas.concat instead.\n",
      "  df_files = df_files.append({'file': file, 'side': side, 'patient': patient}, ignore_index=True)\n",
      "C:\\Users\\selinederooij\\AppData\\Local\\Temp\\ipykernel_14388\\110358461.py:20: FutureWarning: The frame.append method is deprecated and will be removed from pandas in a future version. Use pandas.concat instead.\n",
      "  df_files = df_files.append({'file': file, 'side': side, 'patient': patient}, ignore_index=True)\n",
      "C:\\Users\\selinederooij\\AppData\\Local\\Temp\\ipykernel_14388\\110358461.py:20: FutureWarning: The frame.append method is deprecated and will be removed from pandas in a future version. Use pandas.concat instead.\n",
      "  df_files = df_files.append({'file': file, 'side': side, 'patient': patient}, ignore_index=True)\n",
      "C:\\Users\\selinederooij\\AppData\\Local\\Temp\\ipykernel_14388\\110358461.py:20: FutureWarning: The frame.append method is deprecated and will be removed from pandas in a future version. Use pandas.concat instead.\n",
      "  df_files = df_files.append({'file': file, 'side': side, 'patient': patient}, ignore_index=True)\n",
      "C:\\Users\\selinederooij\\AppData\\Local\\Temp\\ipykernel_14388\\110358461.py:20: FutureWarning: The frame.append method is deprecated and will be removed from pandas in a future version. Use pandas.concat instead.\n",
      "  df_files = df_files.append({'file': file, 'side': side, 'patient': patient}, ignore_index=True)\n",
      "C:\\Users\\selinederooij\\AppData\\Local\\Temp\\ipykernel_14388\\110358461.py:20: FutureWarning: The frame.append method is deprecated and will be removed from pandas in a future version. Use pandas.concat instead.\n",
      "  df_files = df_files.append({'file': file, 'side': side, 'patient': patient}, ignore_index=True)\n",
      "C:\\Users\\selinederooij\\AppData\\Local\\Temp\\ipykernel_14388\\110358461.py:20: FutureWarning: The frame.append method is deprecated and will be removed from pandas in a future version. Use pandas.concat instead.\n",
      "  df_files = df_files.append({'file': file, 'side': side, 'patient': patient}, ignore_index=True)\n",
      "C:\\Users\\selinederooij\\AppData\\Local\\Temp\\ipykernel_14388\\110358461.py:20: FutureWarning: The frame.append method is deprecated and will be removed from pandas in a future version. Use pandas.concat instead.\n",
      "  df_files = df_files.append({'file': file, 'side': side, 'patient': patient}, ignore_index=True)\n",
      "C:\\Users\\selinederooij\\AppData\\Local\\Temp\\ipykernel_14388\\110358461.py:20: FutureWarning: The frame.append method is deprecated and will be removed from pandas in a future version. Use pandas.concat instead.\n",
      "  df_files = df_files.append({'file': file, 'side': side, 'patient': patient}, ignore_index=True)\n",
      "C:\\Users\\selinederooij\\AppData\\Local\\Temp\\ipykernel_14388\\110358461.py:20: FutureWarning: The frame.append method is deprecated and will be removed from pandas in a future version. Use pandas.concat instead.\n",
      "  df_files = df_files.append({'file': file, 'side': side, 'patient': patient}, ignore_index=True)\n",
      "C:\\Users\\selinederooij\\AppData\\Local\\Temp\\ipykernel_14388\\110358461.py:20: FutureWarning: The frame.append method is deprecated and will be removed from pandas in a future version. Use pandas.concat instead.\n",
      "  df_files = df_files.append({'file': file, 'side': side, 'patient': patient}, ignore_index=True)\n",
      "C:\\Users\\selinederooij\\AppData\\Local\\Temp\\ipykernel_14388\\110358461.py:20: FutureWarning: The frame.append method is deprecated and will be removed from pandas in a future version. Use pandas.concat instead.\n",
      "  df_files = df_files.append({'file': file, 'side': side, 'patient': patient}, ignore_index=True)\n",
      "C:\\Users\\selinederooij\\AppData\\Local\\Temp\\ipykernel_14388\\110358461.py:20: FutureWarning: The frame.append method is deprecated and will be removed from pandas in a future version. Use pandas.concat instead.\n",
      "  df_files = df_files.append({'file': file, 'side': side, 'patient': patient}, ignore_index=True)\n",
      "C:\\Users\\selinederooij\\AppData\\Local\\Temp\\ipykernel_14388\\110358461.py:20: FutureWarning: The frame.append method is deprecated and will be removed from pandas in a future version. Use pandas.concat instead.\n",
      "  df_files = df_files.append({'file': file, 'side': side, 'patient': patient}, ignore_index=True)\n",
      "C:\\Users\\selinederooij\\AppData\\Local\\Temp\\ipykernel_14388\\110358461.py:20: FutureWarning: The frame.append method is deprecated and will be removed from pandas in a future version. Use pandas.concat instead.\n",
      "  df_files = df_files.append({'file': file, 'side': side, 'patient': patient}, ignore_index=True)\n",
      "C:\\Users\\selinederooij\\AppData\\Local\\Temp\\ipykernel_14388\\110358461.py:20: FutureWarning: The frame.append method is deprecated and will be removed from pandas in a future version. Use pandas.concat instead.\n",
      "  df_files = df_files.append({'file': file, 'side': side, 'patient': patient}, ignore_index=True)\n",
      "C:\\Users\\selinederooij\\AppData\\Local\\Temp\\ipykernel_14388\\110358461.py:20: FutureWarning: The frame.append method is deprecated and will be removed from pandas in a future version. Use pandas.concat instead.\n",
      "  df_files = df_files.append({'file': file, 'side': side, 'patient': patient}, ignore_index=True)\n",
      "C:\\Users\\selinederooij\\AppData\\Local\\Temp\\ipykernel_14388\\110358461.py:20: FutureWarning: The frame.append method is deprecated and will be removed from pandas in a future version. Use pandas.concat instead.\n",
      "  df_files = df_files.append({'file': file, 'side': side, 'patient': patient}, ignore_index=True)\n",
      "C:\\Users\\selinederooij\\AppData\\Local\\Temp\\ipykernel_14388\\110358461.py:20: FutureWarning: The frame.append method is deprecated and will be removed from pandas in a future version. Use pandas.concat instead.\n",
      "  df_files = df_files.append({'file': file, 'side': side, 'patient': patient}, ignore_index=True)\n",
      "C:\\Users\\selinederooij\\AppData\\Local\\Temp\\ipykernel_14388\\110358461.py:20: FutureWarning: The frame.append method is deprecated and will be removed from pandas in a future version. Use pandas.concat instead.\n",
      "  df_files = df_files.append({'file': file, 'side': side, 'patient': patient}, ignore_index=True)\n",
      "C:\\Users\\selinederooij\\AppData\\Local\\Temp\\ipykernel_14388\\110358461.py:20: FutureWarning: The frame.append method is deprecated and will be removed from pandas in a future version. Use pandas.concat instead.\n",
      "  df_files = df_files.append({'file': file, 'side': side, 'patient': patient}, ignore_index=True)\n",
      "C:\\Users\\selinederooij\\AppData\\Local\\Temp\\ipykernel_14388\\110358461.py:20: FutureWarning: The frame.append method is deprecated and will be removed from pandas in a future version. Use pandas.concat instead.\n",
      "  df_files = df_files.append({'file': file, 'side': side, 'patient': patient}, ignore_index=True)\n",
      "C:\\Users\\selinederooij\\AppData\\Local\\Temp\\ipykernel_14388\\110358461.py:20: FutureWarning: The frame.append method is deprecated and will be removed from pandas in a future version. Use pandas.concat instead.\n",
      "  df_files = df_files.append({'file': file, 'side': side, 'patient': patient}, ignore_index=True)\n",
      "C:\\Users\\selinederooij\\AppData\\Local\\Temp\\ipykernel_14388\\110358461.py:20: FutureWarning: The frame.append method is deprecated and will be removed from pandas in a future version. Use pandas.concat instead.\n",
      "  df_files = df_files.append({'file': file, 'side': side, 'patient': patient}, ignore_index=True)\n",
      "C:\\Users\\selinederooij\\AppData\\Local\\Temp\\ipykernel_14388\\110358461.py:20: FutureWarning: The frame.append method is deprecated and will be removed from pandas in a future version. Use pandas.concat instead.\n",
      "  df_files = df_files.append({'file': file, 'side': side, 'patient': patient}, ignore_index=True)\n",
      "C:\\Users\\selinederooij\\AppData\\Local\\Temp\\ipykernel_14388\\110358461.py:20: FutureWarning: The frame.append method is deprecated and will be removed from pandas in a future version. Use pandas.concat instead.\n",
      "  df_files = df_files.append({'file': file, 'side': side, 'patient': patient}, ignore_index=True)\n",
      "C:\\Users\\selinederooij\\AppData\\Local\\Temp\\ipykernel_14388\\110358461.py:20: FutureWarning: The frame.append method is deprecated and will be removed from pandas in a future version. Use pandas.concat instead.\n",
      "  df_files = df_files.append({'file': file, 'side': side, 'patient': patient}, ignore_index=True)\n",
      "C:\\Users\\selinederooij\\AppData\\Local\\Temp\\ipykernel_14388\\110358461.py:20: FutureWarning: The frame.append method is deprecated and will be removed from pandas in a future version. Use pandas.concat instead.\n",
      "  df_files = df_files.append({'file': file, 'side': side, 'patient': patient}, ignore_index=True)\n",
      "C:\\Users\\selinederooij\\AppData\\Local\\Temp\\ipykernel_14388\\110358461.py:20: FutureWarning: The frame.append method is deprecated and will be removed from pandas in a future version. Use pandas.concat instead.\n",
      "  df_files = df_files.append({'file': file, 'side': side, 'patient': patient}, ignore_index=True)\n",
      "C:\\Users\\selinederooij\\AppData\\Local\\Temp\\ipykernel_14388\\110358461.py:20: FutureWarning: The frame.append method is deprecated and will be removed from pandas in a future version. Use pandas.concat instead.\n",
      "  df_files = df_files.append({'file': file, 'side': side, 'patient': patient}, ignore_index=True)\n",
      "C:\\Users\\selinederooij\\AppData\\Local\\Temp\\ipykernel_14388\\110358461.py:20: FutureWarning: The frame.append method is deprecated and will be removed from pandas in a future version. Use pandas.concat instead.\n",
      "  df_files = df_files.append({'file': file, 'side': side, 'patient': patient}, ignore_index=True)\n",
      "C:\\Users\\selinederooij\\AppData\\Local\\Temp\\ipykernel_14388\\110358461.py:20: FutureWarning: The frame.append method is deprecated and will be removed from pandas in a future version. Use pandas.concat instead.\n",
      "  df_files = df_files.append({'file': file, 'side': side, 'patient': patient}, ignore_index=True)\n",
      "C:\\Users\\selinederooij\\AppData\\Local\\Temp\\ipykernel_14388\\110358461.py:20: FutureWarning: The frame.append method is deprecated and will be removed from pandas in a future version. Use pandas.concat instead.\n",
      "  df_files = df_files.append({'file': file, 'side': side, 'patient': patient}, ignore_index=True)\n",
      "C:\\Users\\selinederooij\\AppData\\Local\\Temp\\ipykernel_14388\\110358461.py:20: FutureWarning: The frame.append method is deprecated and will be removed from pandas in a future version. Use pandas.concat instead.\n",
      "  df_files = df_files.append({'file': file, 'side': side, 'patient': patient}, ignore_index=True)\n",
      "C:\\Users\\selinederooij\\AppData\\Local\\Temp\\ipykernel_14388\\110358461.py:20: FutureWarning: The frame.append method is deprecated and will be removed from pandas in a future version. Use pandas.concat instead.\n",
      "  df_files = df_files.append({'file': file, 'side': side, 'patient': patient}, ignore_index=True)\n",
      "C:\\Users\\selinederooij\\AppData\\Local\\Temp\\ipykernel_14388\\110358461.py:20: FutureWarning: The frame.append method is deprecated and will be removed from pandas in a future version. Use pandas.concat instead.\n",
      "  df_files = df_files.append({'file': file, 'side': side, 'patient': patient}, ignore_index=True)\n",
      "C:\\Users\\selinederooij\\AppData\\Local\\Temp\\ipykernel_14388\\110358461.py:20: FutureWarning: The frame.append method is deprecated and will be removed from pandas in a future version. Use pandas.concat instead.\n",
      "  df_files = df_files.append({'file': file, 'side': side, 'patient': patient}, ignore_index=True)\n",
      "C:\\Users\\selinederooij\\AppData\\Local\\Temp\\ipykernel_14388\\110358461.py:20: FutureWarning: The frame.append method is deprecated and will be removed from pandas in a future version. Use pandas.concat instead.\n",
      "  df_files = df_files.append({'file': file, 'side': side, 'patient': patient}, ignore_index=True)\n",
      "C:\\Users\\selinederooij\\AppData\\Local\\Temp\\ipykernel_14388\\110358461.py:20: FutureWarning: The frame.append method is deprecated and will be removed from pandas in a future version. Use pandas.concat instead.\n",
      "  df_files = df_files.append({'file': file, 'side': side, 'patient': patient}, ignore_index=True)\n",
      "C:\\Users\\selinederooij\\AppData\\Local\\Temp\\ipykernel_14388\\110358461.py:20: FutureWarning: The frame.append method is deprecated and will be removed from pandas in a future version. Use pandas.concat instead.\n",
      "  df_files = df_files.append({'file': file, 'side': side, 'patient': patient}, ignore_index=True)\n",
      "C:\\Users\\selinederooij\\AppData\\Local\\Temp\\ipykernel_14388\\110358461.py:20: FutureWarning: The frame.append method is deprecated and will be removed from pandas in a future version. Use pandas.concat instead.\n",
      "  df_files = df_files.append({'file': file, 'side': side, 'patient': patient}, ignore_index=True)\n",
      "C:\\Users\\selinederooij\\AppData\\Local\\Temp\\ipykernel_14388\\110358461.py:20: FutureWarning: The frame.append method is deprecated and will be removed from pandas in a future version. Use pandas.concat instead.\n",
      "  df_files = df_files.append({'file': file, 'side': side, 'patient': patient}, ignore_index=True)\n",
      "C:\\Users\\selinederooij\\AppData\\Local\\Temp\\ipykernel_14388\\110358461.py:20: FutureWarning: The frame.append method is deprecated and will be removed from pandas in a future version. Use pandas.concat instead.\n",
      "  df_files = df_files.append({'file': file, 'side': side, 'patient': patient}, ignore_index=True)\n",
      "C:\\Users\\selinederooij\\AppData\\Local\\Temp\\ipykernel_14388\\110358461.py:20: FutureWarning: The frame.append method is deprecated and will be removed from pandas in a future version. Use pandas.concat instead.\n",
      "  df_files = df_files.append({'file': file, 'side': side, 'patient': patient}, ignore_index=True)\n",
      "C:\\Users\\selinederooij\\AppData\\Local\\Temp\\ipykernel_14388\\110358461.py:20: FutureWarning: The frame.append method is deprecated and will be removed from pandas in a future version. Use pandas.concat instead.\n",
      "  df_files = df_files.append({'file': file, 'side': side, 'patient': patient}, ignore_index=True)\n",
      "C:\\Users\\selinederooij\\AppData\\Local\\Temp\\ipykernel_14388\\110358461.py:20: FutureWarning: The frame.append method is deprecated and will be removed from pandas in a future version. Use pandas.concat instead.\n",
      "  df_files = df_files.append({'file': file, 'side': side, 'patient': patient}, ignore_index=True)\n",
      "C:\\Users\\selinederooij\\AppData\\Local\\Temp\\ipykernel_14388\\110358461.py:20: FutureWarning: The frame.append method is deprecated and will be removed from pandas in a future version. Use pandas.concat instead.\n",
      "  df_files = df_files.append({'file': file, 'side': side, 'patient': patient}, ignore_index=True)\n",
      "C:\\Users\\selinederooij\\AppData\\Local\\Temp\\ipykernel_14388\\110358461.py:20: FutureWarning: The frame.append method is deprecated and will be removed from pandas in a future version. Use pandas.concat instead.\n",
      "  df_files = df_files.append({'file': file, 'side': side, 'patient': patient}, ignore_index=True)\n",
      "C:\\Users\\selinederooij\\AppData\\Local\\Temp\\ipykernel_14388\\110358461.py:20: FutureWarning: The frame.append method is deprecated and will be removed from pandas in a future version. Use pandas.concat instead.\n",
      "  df_files = df_files.append({'file': file, 'side': side, 'patient': patient}, ignore_index=True)\n",
      "C:\\Users\\selinederooij\\AppData\\Local\\Temp\\ipykernel_14388\\110358461.py:20: FutureWarning: The frame.append method is deprecated and will be removed from pandas in a future version. Use pandas.concat instead.\n",
      "  df_files = df_files.append({'file': file, 'side': side, 'patient': patient}, ignore_index=True)\n",
      "C:\\Users\\selinederooij\\AppData\\Local\\Temp\\ipykernel_14388\\110358461.py:20: FutureWarning: The frame.append method is deprecated and will be removed from pandas in a future version. Use pandas.concat instead.\n",
      "  df_files = df_files.append({'file': file, 'side': side, 'patient': patient}, ignore_index=True)\n",
      "C:\\Users\\selinederooij\\AppData\\Local\\Temp\\ipykernel_14388\\110358461.py:20: FutureWarning: The frame.append method is deprecated and will be removed from pandas in a future version. Use pandas.concat instead.\n",
      "  df_files = df_files.append({'file': file, 'side': side, 'patient': patient}, ignore_index=True)\n",
      "C:\\Users\\selinederooij\\AppData\\Local\\Temp\\ipykernel_14388\\110358461.py:20: FutureWarning: The frame.append method is deprecated and will be removed from pandas in a future version. Use pandas.concat instead.\n",
      "  df_files = df_files.append({'file': file, 'side': side, 'patient': patient}, ignore_index=True)\n",
      "C:\\Users\\selinederooij\\AppData\\Local\\Temp\\ipykernel_14388\\110358461.py:20: FutureWarning: The frame.append method is deprecated and will be removed from pandas in a future version. Use pandas.concat instead.\n",
      "  df_files = df_files.append({'file': file, 'side': side, 'patient': patient}, ignore_index=True)\n",
      "C:\\Users\\selinederooij\\AppData\\Local\\Temp\\ipykernel_14388\\110358461.py:20: FutureWarning: The frame.append method is deprecated and will be removed from pandas in a future version. Use pandas.concat instead.\n",
      "  df_files = df_files.append({'file': file, 'side': side, 'patient': patient}, ignore_index=True)\n",
      "C:\\Users\\selinederooij\\AppData\\Local\\Temp\\ipykernel_14388\\110358461.py:20: FutureWarning: The frame.append method is deprecated and will be removed from pandas in a future version. Use pandas.concat instead.\n",
      "  df_files = df_files.append({'file': file, 'side': side, 'patient': patient}, ignore_index=True)\n",
      "C:\\Users\\selinederooij\\AppData\\Local\\Temp\\ipykernel_14388\\110358461.py:20: FutureWarning: The frame.append method is deprecated and will be removed from pandas in a future version. Use pandas.concat instead.\n",
      "  df_files = df_files.append({'file': file, 'side': side, 'patient': patient}, ignore_index=True)\n",
      "C:\\Users\\selinederooij\\AppData\\Local\\Temp\\ipykernel_14388\\110358461.py:20: FutureWarning: The frame.append method is deprecated and will be removed from pandas in a future version. Use pandas.concat instead.\n",
      "  df_files = df_files.append({'file': file, 'side': side, 'patient': patient}, ignore_index=True)\n",
      "C:\\Users\\selinederooij\\AppData\\Local\\Temp\\ipykernel_14388\\110358461.py:20: FutureWarning: The frame.append method is deprecated and will be removed from pandas in a future version. Use pandas.concat instead.\n",
      "  df_files = df_files.append({'file': file, 'side': side, 'patient': patient}, ignore_index=True)\n",
      "C:\\Users\\selinederooij\\AppData\\Local\\Temp\\ipykernel_14388\\110358461.py:20: FutureWarning: The frame.append method is deprecated and will be removed from pandas in a future version. Use pandas.concat instead.\n",
      "  df_files = df_files.append({'file': file, 'side': side, 'patient': patient}, ignore_index=True)\n",
      "C:\\Users\\selinederooij\\AppData\\Local\\Temp\\ipykernel_14388\\110358461.py:20: FutureWarning: The frame.append method is deprecated and will be removed from pandas in a future version. Use pandas.concat instead.\n",
      "  df_files = df_files.append({'file': file, 'side': side, 'patient': patient}, ignore_index=True)\n",
      "C:\\Users\\selinederooij\\AppData\\Local\\Temp\\ipykernel_14388\\110358461.py:20: FutureWarning: The frame.append method is deprecated and will be removed from pandas in a future version. Use pandas.concat instead.\n",
      "  df_files = df_files.append({'file': file, 'side': side, 'patient': patient}, ignore_index=True)\n",
      "C:\\Users\\selinederooij\\AppData\\Local\\Temp\\ipykernel_14388\\110358461.py:20: FutureWarning: The frame.append method is deprecated and will be removed from pandas in a future version. Use pandas.concat instead.\n",
      "  df_files = df_files.append({'file': file, 'side': side, 'patient': patient}, ignore_index=True)\n",
      "C:\\Users\\selinederooij\\AppData\\Local\\Temp\\ipykernel_14388\\110358461.py:20: FutureWarning: The frame.append method is deprecated and will be removed from pandas in a future version. Use pandas.concat instead.\n",
      "  df_files = df_files.append({'file': file, 'side': side, 'patient': patient}, ignore_index=True)\n",
      "C:\\Users\\selinederooij\\AppData\\Local\\Temp\\ipykernel_14388\\110358461.py:20: FutureWarning: The frame.append method is deprecated and will be removed from pandas in a future version. Use pandas.concat instead.\n",
      "  df_files = df_files.append({'file': file, 'side': side, 'patient': patient}, ignore_index=True)\n",
      "C:\\Users\\selinederooij\\AppData\\Local\\Temp\\ipykernel_14388\\110358461.py:20: FutureWarning: The frame.append method is deprecated and will be removed from pandas in a future version. Use pandas.concat instead.\n",
      "  df_files = df_files.append({'file': file, 'side': side, 'patient': patient}, ignore_index=True)\n",
      "C:\\Users\\selinederooij\\AppData\\Local\\Temp\\ipykernel_14388\\110358461.py:20: FutureWarning: The frame.append method is deprecated and will be removed from pandas in a future version. Use pandas.concat instead.\n",
      "  df_files = df_files.append({'file': file, 'side': side, 'patient': patient}, ignore_index=True)\n",
      "C:\\Users\\selinederooij\\AppData\\Local\\Temp\\ipykernel_14388\\110358461.py:20: FutureWarning: The frame.append method is deprecated and will be removed from pandas in a future version. Use pandas.concat instead.\n",
      "  df_files = df_files.append({'file': file, 'side': side, 'patient': patient}, ignore_index=True)\n",
      "C:\\Users\\selinederooij\\AppData\\Local\\Temp\\ipykernel_14388\\110358461.py:20: FutureWarning: The frame.append method is deprecated and will be removed from pandas in a future version. Use pandas.concat instead.\n",
      "  df_files = df_files.append({'file': file, 'side': side, 'patient': patient}, ignore_index=True)\n",
      "C:\\Users\\selinederooij\\AppData\\Local\\Temp\\ipykernel_14388\\110358461.py:20: FutureWarning: The frame.append method is deprecated and will be removed from pandas in a future version. Use pandas.concat instead.\n",
      "  df_files = df_files.append({'file': file, 'side': side, 'patient': patient}, ignore_index=True)\n",
      "C:\\Users\\selinederooij\\AppData\\Local\\Temp\\ipykernel_14388\\110358461.py:20: FutureWarning: The frame.append method is deprecated and will be removed from pandas in a future version. Use pandas.concat instead.\n",
      "  df_files = df_files.append({'file': file, 'side': side, 'patient': patient}, ignore_index=True)\n",
      "C:\\Users\\selinederooij\\AppData\\Local\\Temp\\ipykernel_14388\\110358461.py:20: FutureWarning: The frame.append method is deprecated and will be removed from pandas in a future version. Use pandas.concat instead.\n",
      "  df_files = df_files.append({'file': file, 'side': side, 'patient': patient}, ignore_index=True)\n",
      "C:\\Users\\selinederooij\\AppData\\Local\\Temp\\ipykernel_14388\\110358461.py:20: FutureWarning: The frame.append method is deprecated and will be removed from pandas in a future version. Use pandas.concat instead.\n",
      "  df_files = df_files.append({'file': file, 'side': side, 'patient': patient}, ignore_index=True)\n",
      "C:\\Users\\selinederooij\\AppData\\Local\\Temp\\ipykernel_14388\\110358461.py:20: FutureWarning: The frame.append method is deprecated and will be removed from pandas in a future version. Use pandas.concat instead.\n",
      "  df_files = df_files.append({'file': file, 'side': side, 'patient': patient}, ignore_index=True)\n",
      "C:\\Users\\selinederooij\\AppData\\Local\\Temp\\ipykernel_14388\\110358461.py:20: FutureWarning: The frame.append method is deprecated and will be removed from pandas in a future version. Use pandas.concat instead.\n",
      "  df_files = df_files.append({'file': file, 'side': side, 'patient': patient}, ignore_index=True)\n",
      "C:\\Users\\selinederooij\\AppData\\Local\\Temp\\ipykernel_14388\\110358461.py:20: FutureWarning: The frame.append method is deprecated and will be removed from pandas in a future version. Use pandas.concat instead.\n",
      "  df_files = df_files.append({'file': file, 'side': side, 'patient': patient}, ignore_index=True)\n",
      "C:\\Users\\selinederooij\\AppData\\Local\\Temp\\ipykernel_14388\\110358461.py:20: FutureWarning: The frame.append method is deprecated and will be removed from pandas in a future version. Use pandas.concat instead.\n",
      "  df_files = df_files.append({'file': file, 'side': side, 'patient': patient}, ignore_index=True)\n",
      "C:\\Users\\selinederooij\\AppData\\Local\\Temp\\ipykernel_14388\\110358461.py:20: FutureWarning: The frame.append method is deprecated and will be removed from pandas in a future version. Use pandas.concat instead.\n",
      "  df_files = df_files.append({'file': file, 'side': side, 'patient': patient}, ignore_index=True)\n",
      "C:\\Users\\selinederooij\\AppData\\Local\\Temp\\ipykernel_14388\\110358461.py:20: FutureWarning: The frame.append method is deprecated and will be removed from pandas in a future version. Use pandas.concat instead.\n",
      "  df_files = df_files.append({'file': file, 'side': side, 'patient': patient}, ignore_index=True)\n",
      "C:\\Users\\selinederooij\\AppData\\Local\\Temp\\ipykernel_14388\\110358461.py:20: FutureWarning: The frame.append method is deprecated and will be removed from pandas in a future version. Use pandas.concat instead.\n",
      "  df_files = df_files.append({'file': file, 'side': side, 'patient': patient}, ignore_index=True)\n",
      "C:\\Users\\selinederooij\\AppData\\Local\\Temp\\ipykernel_14388\\110358461.py:20: FutureWarning: The frame.append method is deprecated and will be removed from pandas in a future version. Use pandas.concat instead.\n",
      "  df_files = df_files.append({'file': file, 'side': side, 'patient': patient}, ignore_index=True)\n"
     ]
    }
   ],
   "source": [
    "for file in files:\n",
    "    with open(file, \"r\", encoding=\"utf-8\", errors=\"ignore\") as f:\n",
    "        temporal = False\n",
    "        left = False\n",
    "        right = False\n",
    "        lines = f.readlines()\n",
    "        for line in lines:\n",
    "            if LEFT_TEMPORAL in line:\n",
    "                left = True\n",
    "            if RIGHT_TEMPORAL in line:\n",
    "                right = True\n",
    "        if left:\n",
    "            side = \"left\"\n",
    "        elif right:\n",
    "            side = \"right\"\n",
    "\n",
    "    if left or right:\n",
    "        patient = int(file.parts[-1].split(\"_\")[0])\n",
    "        file = str(Path(*file.parts[6:])).replace(\"\\\\\", \"/\")\n",
    "        df_files = df_files.append(\n",
    "            {\"file\": file, \"side\": side, \"patient\": patient}, ignore_index=True\n",
    "        )"
   ]
  },
  {
   "cell_type": "code",
   "execution_count": 9,
   "metadata": {
    "collapsed": false
   },
   "outputs": [],
   "source": [
    "df_files = df_files.drop_duplicates(subset=[\"patient\"])"
   ]
  },
  {
   "cell_type": "markdown",
   "metadata": {
    "collapsed": false
   },
   "source": [
    "Merge with patient info (No. Seizure per Patient)"
   ]
  },
  {
   "cell_type": "markdown",
   "metadata": {
    "collapsed": false
   },
   "source": []
  },
  {
   "cell_type": "code",
   "execution_count": 10,
   "metadata": {
    "collapsed": false
   },
   "outputs": [],
   "source": [
    "seiz_ann = pd.read_csv(\"../data/Seizure_Annotations.csv\")\n",
    "seiz_ann = seiz_ann.dropna(subset=[\"Seizure_Type\"])"
   ]
  },
  {
   "cell_type": "code",
   "execution_count": 11,
   "metadata": {
    "collapsed": false
   },
   "outputs": [],
   "source": [
    "df_files[\"num_seizures\"] = 0\n",
    "for patient in df_files[\"patient\"]:\n",
    "    temp = seiz_ann.loc[seiz_ann[\"Patient\"] == patient]\n",
    "    temp = temp.loc[\n",
    "        temp[\"Seizure_Stop\"] - temp[\"Seizure_Start\"] > 10.0\n",
    "    ]  # only seizures longer than 10 s\n",
    "    num_seiz = len(temp)\n",
    "    df_files.loc[df_files[\"patient\"] == patient, \"num_seizures\"] = num_seiz"
   ]
  },
  {
   "cell_type": "code",
   "execution_count": 12,
   "metadata": {
    "collapsed": false
   },
   "outputs": [],
   "source": [
    "df_files.to_csv(\"../data/TLE_patients.csv\", index=True)"
   ]
  },
  {
   "cell_type": "markdown",
   "metadata": {
    "collapsed": false
   },
   "source": [
    "Now check for T1 and T2 channels in the patients' files"
   ]
  },
  {
   "cell_type": "code",
   "execution_count": 13,
   "metadata": {
    "collapsed": false
   },
   "outputs": [
    {
     "name": "stderr",
     "output_type": "stream",
     "text": [
      "C:\\Users\\selinederooij\\surfdrive\\Code\\data_processing_library\\seizure_data_processing\\seizure_data_processing\\pre_processing\\eeg.py:91: VisibleDeprecationWarning: Creating an ndarray from ragged nested sequences (which is a list-or-tuple of lists-or-tuples-or ndarrays with different lengths or shapes) is deprecated. If you meant to do this, you must specify 'dtype=object' when creating the ndarray.\n",
      "  self.data = np.array(signals)\n",
      "C:\\Users\\selinederooij\\surfdrive\\Code\\data_processing_library\\seizure_data_processing\\seizure_data_processing\\pre_processing\\eeg.py:91: VisibleDeprecationWarning: Creating an ndarray from ragged nested sequences (which is a list-or-tuple of lists-or-tuples-or ndarrays with different lengths or shapes) is deprecated. If you meant to do this, you must specify 'dtype=object' when creating the ndarray.\n",
      "  self.data = np.array(signals)\n",
      "C:\\Users\\selinederooij\\surfdrive\\Code\\data_processing_library\\seizure_data_processing\\seizure_data_processing\\pre_processing\\eeg.py:91: VisibleDeprecationWarning: Creating an ndarray from ragged nested sequences (which is a list-or-tuple of lists-or-tuples-or ndarrays with different lengths or shapes) is deprecated. If you meant to do this, you must specify 'dtype=object' when creating the ndarray.\n",
      "  self.data = np.array(signals)\n",
      "C:\\Users\\selinederooij\\surfdrive\\Code\\data_processing_library\\seizure_data_processing\\seizure_data_processing\\pre_processing\\eeg.py:91: VisibleDeprecationWarning: Creating an ndarray from ragged nested sequences (which is a list-or-tuple of lists-or-tuples-or ndarrays with different lengths or shapes) is deprecated. If you meant to do this, you must specify 'dtype=object' when creating the ndarray.\n",
      "  self.data = np.array(signals)\n",
      "C:\\Users\\selinederooij\\surfdrive\\Code\\data_processing_library\\seizure_data_processing\\seizure_data_processing\\pre_processing\\eeg.py:91: VisibleDeprecationWarning: Creating an ndarray from ragged nested sequences (which is a list-or-tuple of lists-or-tuples-or ndarrays with different lengths or shapes) is deprecated. If you meant to do this, you must specify 'dtype=object' when creating the ndarray.\n",
      "  self.data = np.array(signals)\n",
      "C:\\Users\\selinederooij\\surfdrive\\Code\\data_processing_library\\seizure_data_processing\\seizure_data_processing\\pre_processing\\eeg.py:91: VisibleDeprecationWarning: Creating an ndarray from ragged nested sequences (which is a list-or-tuple of lists-or-tuples-or ndarrays with different lengths or shapes) is deprecated. If you meant to do this, you must specify 'dtype=object' when creating the ndarray.\n",
      "  self.data = np.array(signals)\n",
      "C:\\Users\\selinederooij\\surfdrive\\Code\\data_processing_library\\seizure_data_processing\\seizure_data_processing\\pre_processing\\eeg.py:91: VisibleDeprecationWarning: Creating an ndarray from ragged nested sequences (which is a list-or-tuple of lists-or-tuples-or ndarrays with different lengths or shapes) is deprecated. If you meant to do this, you must specify 'dtype=object' when creating the ndarray.\n",
      "  self.data = np.array(signals)\n",
      "C:\\Users\\selinederooij\\surfdrive\\Code\\data_processing_library\\seizure_data_processing\\seizure_data_processing\\pre_processing\\eeg.py:91: VisibleDeprecationWarning: Creating an ndarray from ragged nested sequences (which is a list-or-tuple of lists-or-tuples-or ndarrays with different lengths or shapes) is deprecated. If you meant to do this, you must specify 'dtype=object' when creating the ndarray.\n",
      "  self.data = np.array(signals)\n",
      "C:\\Users\\selinederooij\\surfdrive\\Code\\data_processing_library\\seizure_data_processing\\seizure_data_processing\\pre_processing\\eeg.py:91: VisibleDeprecationWarning: Creating an ndarray from ragged nested sequences (which is a list-or-tuple of lists-or-tuples-or ndarrays with different lengths or shapes) is deprecated. If you meant to do this, you must specify 'dtype=object' when creating the ndarray.\n",
      "  self.data = np.array(signals)\n",
      "C:\\Users\\selinederooij\\surfdrive\\Code\\data_processing_library\\seizure_data_processing\\seizure_data_processing\\pre_processing\\eeg.py:91: VisibleDeprecationWarning: Creating an ndarray from ragged nested sequences (which is a list-or-tuple of lists-or-tuples-or ndarrays with different lengths or shapes) is deprecated. If you meant to do this, you must specify 'dtype=object' when creating the ndarray.\n",
      "  self.data = np.array(signals)\n",
      "C:\\Users\\selinederooij\\surfdrive\\Code\\data_processing_library\\seizure_data_processing\\seizure_data_processing\\pre_processing\\eeg.py:91: VisibleDeprecationWarning: Creating an ndarray from ragged nested sequences (which is a list-or-tuple of lists-or-tuples-or ndarrays with different lengths or shapes) is deprecated. If you meant to do this, you must specify 'dtype=object' when creating the ndarray.\n",
      "  self.data = np.array(signals)\n",
      "C:\\Users\\selinederooij\\surfdrive\\Code\\data_processing_library\\seizure_data_processing\\seizure_data_processing\\pre_processing\\eeg.py:91: VisibleDeprecationWarning: Creating an ndarray from ragged nested sequences (which is a list-or-tuple of lists-or-tuples-or ndarrays with different lengths or shapes) is deprecated. If you meant to do this, you must specify 'dtype=object' when creating the ndarray.\n",
      "  self.data = np.array(signals)\n"
     ]
    }
   ],
   "source": [
    "patient_ann = pd.read_csv(\"../data/Seizure_Annotations.csv\")\n",
    "patient_ann = patient_ann.loc[patient_ann[\"Patient\"].isin(df_files[\"patient\"].tolist())]\n",
    "patient_ann[\"T1_T2\"] = False\n",
    "for i, row in patient_ann.iterrows():\n",
    "    file = TUSZ_DIR + \"edf\" + row[\"Filename\"] + \".edf\"\n",
    "    eeg = EEG(file)\n",
    "    index = [\n",
    "        i for i, elem in enumerate(eeg.channels) if \"T1\".casefold() in elem.casefold()\n",
    "    ]\n",
    "    if len(index) > 0:\n",
    "        patient_ann.at[i, \"T1_T2\"] = True"
   ]
  },
  {
   "cell_type": "code",
   "execution_count": 14,
   "metadata": {
    "collapsed": false
   },
   "outputs": [],
   "source": [
    "patient_ann = patient_ann.loc[patient_ann[\"T1_T2\"] == True]"
   ]
  },
  {
   "cell_type": "code",
   "execution_count": 15,
   "metadata": {
    "collapsed": false
   },
   "outputs": [],
   "source": [
    "patients = patient_ann[\"Patient\"].unique().tolist()\n",
    "df_files = df_files.loc[df_files[\"patient\"].isin(patients)]\n",
    "for patient in df_files[\"patient\"]:\n",
    "    temp = patient_ann.loc[patient_ann[\"Patient\"] == patient]\n",
    "    temp = temp.loc[\n",
    "        temp[\"Seizure_Stop\"] - temp[\"Seizure_Start\"] > 10.0\n",
    "    ]  # only seizures longer than 10 s\n",
    "    num_seiz = len(temp)\n",
    "    df_files.loc[df_files[\"patient\"] == patient, \"num_seizures\"] = num_seiz\n",
    "\n",
    "df_files.to_csv(\"../data/TLE_patients.csv\", index=True)"
   ]
  },
  {
   "cell_type": "code",
   "execution_count": 16,
   "metadata": {
    "collapsed": false
   },
   "outputs": [],
   "source": [
    "patient_ann.to_csv(\"../data/annotations_TLE_patients.csv\", index=False)"
   ]
  }
 ],
 "metadata": {
  "kernelspec": {
   "display_name": "Python 3",
   "language": "python",
   "name": "python3"
  },
  "language_info": {
   "codemirror_mode": {
    "name": "ipython",
    "version": 2
   },
   "file_extension": ".py",
   "mimetype": "text/x-python",
   "name": "python",
   "nbconvert_exporter": "python",
   "pygments_lexer": "ipython2",
   "version": "2.7.6"
  }
 },
 "nbformat": 4,
 "nbformat_minor": 0
}
